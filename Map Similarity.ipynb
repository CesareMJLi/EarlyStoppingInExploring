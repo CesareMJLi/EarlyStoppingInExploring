{
 "cells": [
  {
   "cell_type": "markdown",
   "metadata": {},
   "source": [
    "# Map Similarity\n",
    "\n",
    "This is a notebook trying to find a potential solution for **Map Similarity**."
   ]
  },
  {
   "cell_type": "markdown",
   "metadata": {},
   "source": [
    "# Early Stopping\n",
    "\n",
    "显然，在早起的探索阶段并没有进行early stopping的必要性，我们可以写一个函数，使其在任意时刻进行early stopping criterion检测的概率P随着探索而不断增大，这样可以减轻一部分的计算负担"
   ]
  },
  {
   "cell_type": "markdown",
   "metadata": {},
   "source": [
    "# BC & FC\n",
    "\n",
    "In the previous paper, we apply the method of BC and FC.\n",
    "\n",
    "According to the method we apply to reconstruct 2d room layout, we could divide the map into the rooms. For both Ground Truth Gt and Reconstructed Layout L, we could execute this operation, and get rooms set R<sup>Gt/L</sup>for each map.\n",
    "\n",
    "We define function:\n",
    "\n",
    "Forward Coverage Function FC: r belongs to R<sup>L</sup> -> r' belongs to R<sup>Gt</sup> (find the room in another map that best describes/overlap this room)\n",
    "\n",
    "Backward Coverage Function BC: r belongs to R<sup>Gt</sup> -> r' belongs to R<sup>L</sup>\n",
    "\n",
    "And then calculate the FC and BC Accuracy:\n",
    "\n",
    "A<sup>FC</sup> = SIGMA-r belongs to R<sup>L</sup>(r overlap FC (r))/SIGMA-r belongs to R<sup>L</sup>(area-r)\n",
    "\n",
    "A<sup>BC</sup> = SIGMA-r belongs to R<sup>Gt</sup>(r overlap BC (r))/SIGMA-r belongs to R<sup>Gt</sup>(area-r)"
   ]
  },
  {
   "cell_type": "markdown",
   "metadata": {},
   "source": [
    "# BC & FC Problems\n",
    "\n",
    "\n",
    "BC and FC accuracy is a nice method to measure the similarity between two maps, however, it has a problem of different pixel scale (this may be solved in the META file of map, it has an introduction of this method), rotation and shift.\n",
    "\n",
    "And this may turn into a NP problem, which is hard to solved. As for the current script we are using now, I didnt find out how he solved it.\n",
    "\n",
    "Even if we solved this problem, we could find a potential problem for this method:\n",
    "\n",
    "> We have two map, Gt and L, supposing L precisely describe 1/4 of the Gt . There are only two identical rooms here in both maps, big room and small rooms. If we apply BC&FC, we may get the result that the BC and FC accuracy are both 1, while actually the prediction is NOT good enough"
   ]
  },
  {
   "cell_type": "markdown",
   "metadata": {},
   "source": [
    "# Other Solution\n",
    "\n",
    "The first solution I came out with, is the solution mentioned in the thesis [What can we learn from 38000 rooms? Reasoning about unexplored space in indoor environments] of Aydemir/Jensfelt/Folkesson.\n",
    "\n",
    "Here in this thesis, they mentioned a method of representing a room by a tree, according to their spacial connectivity. We could see that this representation is unique for each map.\n",
    "\n",
    "But acctually the map is not well-described by the tree-representation, since the map could transform from a L-shape to a I shape, while not changing the tree-structure. To solve this problem, we could use a Monte-Carlo idea of measuring the distance, we randomly select a part of nodes in the tree, and then calculate the Euclidean-distance of both rooms, and then we add this vertex to the tree with different color.\n",
    "\n",
    "Hence the tree becomes a tree with two kinds of distance, the value of the node is the area of the room. And then, we could find a topological way to describe the distance of two trees."
   ]
  },
  {
   "cell_type": "markdown",
   "metadata": {},
   "source": [
    "# Partially Observed地图分类\n",
    "\n",
    "对于一个Partially Observed地图来说，有若干种情况：\n",
    "\n",
    "1. Open Partially Observed: 在探索的早期阶段，如果一个PO地图在某一个方向上完全是开放的，在这种情况下，我们无法判断整个地图的轮廓，我们可以直接判断地图是不好的\n",
    "2. Closed Partially Observed： 在探索的后期阶段，如果一个PO可以生成一个闭合的轮廓，那么我们可以在这个前提下进行计算。"
   ]
  },
  {
   "cell_type": "code",
   "execution_count": null,
   "metadata": {},
   "outputs": [],
   "source": []
  }
 ],
 "metadata": {
  "kernelspec": {
   "display_name": "Python 3",
   "language": "python",
   "name": "python3"
  },
  "language_info": {
   "codemirror_mode": {
    "name": "ipython",
    "version": 3
   },
   "file_extension": ".py",
   "mimetype": "text/x-python",
   "name": "python",
   "nbconvert_exporter": "python",
   "pygments_lexer": "ipython3",
   "version": "3.7.1"
  }
 },
 "nbformat": 4,
 "nbformat_minor": 2
}
